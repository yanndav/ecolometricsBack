{
 "metadata": {
  "language_info": {
   "codemirror_mode": {
    "name": "ipython",
    "version": 3
   },
   "file_extension": ".py",
   "mimetype": "text/x-python",
   "name": "python",
   "nbconvert_exporter": "python",
   "pygments_lexer": "ipython3",
   "version": "3.9.2"
  },
  "orig_nbformat": 2,
  "kernelspec": {
   "name": "python392jvsc74a57bd0a81708ecb53e9505c16e561773cae606f5b9df8d256990c488db9ecdf67a994f",
   "display_name": "Python 3.9.2 64-bit"
  }
 },
 "nbformat": 4,
 "nbformat_minor": 2,
 "cells": [
  {
   "source": [
    "# Hey mate!\n",
    "Yann . 16.05.2021\n",
    "\n",
    "In this script I just create a training dataset for graphs creation!\n"
   ],
   "cell_type": "markdown",
   "metadata": {}
  },
  {
   "cell_type": "code",
   "execution_count": 176,
   "metadata": {},
   "outputs": [],
   "source": [
    "# Libraries import\n",
    "import os\n",
    "import re\n",
    "import requests\n",
    "import json \n",
    "# Initialisation path\n",
    "dirPath = re.sub('testScripts','testData',os.getcwd())\n"
   ]
  },
  {
   "source": [
    "## Document structure prototype"
   ],
   "cell_type": "markdown",
   "metadata": {}
  },
  {
   "source": [
    "# First attempt data structure\n",
    "base = {'structure':\n",
    "    {\"variable\":[], # Position serves as id to fin dataset\n",
    "     \"location\":[], # Position serves as id to find dataset -> level 1 national, level 2 intranational \n",
    "     \"date\":[]}, # Position serves as id to find value in dataset\n",
    "'dataSet':{}, # dictionnary with search query as id -> ex '1:1:1' ->  variable : country : scale\n",
    "'metadata':{ # Metadata serves for the user interface\n",
    "    'relation':{\n",
    "        'category':{}, #{'category A':{'0','3','78'}} # Ids of variables\n",
    "        'geoHierarchy':[] #{'0': {'national': '0','regional':{'1':{'2','3'},'4':{'5','6'}}}}\n",
    "    },\n",
    "    'description':{} # dictionnary with search query as id -> ex '1:1:1'\n",
    "}\n",
    "}\n"
   ],
   "cell_type": "code",
   "metadata": {},
   "execution_count": 229,
   "outputs": []
  },
  {
   "source": [
    "## Data retrieval on the OECD API"
   ],
   "cell_type": "markdown",
   "metadata": {}
  },
  {
   "cell_type": "code",
   "execution_count": 76,
   "metadata": {},
   "outputs": [],
   "source": [
    "response = requests.get(\"https://stats.oecd.org/SDMX-JSON/data/EP_IND\")\n",
    "data = response.json()"
   ]
  },
  {
   "source": [
    "Copying data to our database"
   ],
   "cell_type": "markdown",
   "metadata": {}
  },
  {
   "cell_type": "code",
   "execution_count": 230,
   "metadata": {},
   "outputs": [],
   "source": [
    "# Adding the variable to the variables list / because not existing\n",
    "base[\"structure\"][\"variable\"].append({'id': 'CO2_GDP', 'name': 'CO2 emissions per unit of GDP, tonnes/1 000 USD 2010 PPP', 'source':'OECD', 'date':'05-2021'})\n",
    "# Adding the country to the country list / because not existing \n",
    "base[\"structure\"][\"location\"].append([{'id': 'ARG', 'name': 'Argentina'}])\n",
    "# Adding years' id to the dataset / because not existing\n",
    "base[\"structure\"][\"date\"]=data['structure']['dimensions']['observation'][0]['values']\n",
    "\n",
    "# Adding the values to the dataset for Argentina\n",
    "base['dataSet']['0:0:0'] = data['dataSets'][0]['series']['50:5'][\"observations\"]\n",
    "\n",
    "\n",
    "# Adding Brazil to database\n",
    "base[\"structure\"][\"location\"].append([data['structure']['dimensions'][\"series\"][0]['values'][30]])\n",
    "\n",
    "# Adding Brazil's values\n",
    "base['dataSet']['0:0:0'] = data['dataSets'][0]['series']['30:5'][\"observations\"]\n"
   ]
  },
  {
   "source": [
    "## Testing corner"
   ],
   "cell_type": "markdown",
   "metadata": {}
  },
  {
   "cell_type": "code",
   "execution_count": 228,
   "metadata": {},
   "outputs": [
    {
     "output_type": "stream",
     "name": "stdout",
     "text": [
      "{'id': 'BRA', 'name': 'Brazil'} {'id': 'CO2_GDP', 'name': 'CO2 emissions per unit of GDP, tonnes/1 000 USD 2010 PPP'}\n"
     ]
    }
   ],
   "source": [
    "print(data['structure']['dimensions'][\"series\"][0]['values'][30], data['structure']['dimensions'][\"series\"][1]['values'][5])"
   ]
  },
  {
   "cell_type": "code",
   "execution_count": 221,
   "metadata": {},
   "outputs": [],
   "source": [
    "items = [item for item in data['dataSets'][0]['series']]"
   ]
  },
  {
   "cell_type": "code",
   "execution_count": 223,
   "metadata": {},
   "outputs": [
    {
     "output_type": "execute_result",
     "data": {
      "text/plain": [
       "'47:66'"
      ]
     },
     "metadata": {},
     "execution_count": 223
    }
   ],
   "source": [
    "items[-2]"
   ]
  },
  {
   "source": [
    "## Exporting data"
   ],
   "cell_type": "markdown",
   "metadata": {}
  },
  {
   "cell_type": "code",
   "execution_count": 231,
   "metadata": {},
   "outputs": [],
   "source": [
    "with open(os.path.join(dirPath,\"database.json\"),'w') as out:\n",
    "    json.dump(base, out)"
   ]
  }
 ]
}