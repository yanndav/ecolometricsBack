{
 "metadata": {
  "language_info": {
   "codemirror_mode": {
    "name": "ipython",
    "version": 3
   },
   "file_extension": ".py",
   "mimetype": "text/x-python",
   "name": "python",
   "nbconvert_exporter": "python",
   "pygments_lexer": "ipython3",
   "version": "3.9.2"
  },
  "orig_nbformat": 2,
  "kernelspec": {
   "name": "python392jvsc74a57bd0a81708ecb53e9505c16e561773cae606f5b9df8d256990c488db9ecdf67a994f",
   "display_name": "Python 3.9.2 64-bit"
  }
 },
 "nbformat": 4,
 "nbformat_minor": 2,
 "cells": [
  {
   "source": [
    "# Hey mate!\n",
    "Yann . 16.05.2021\n",
    "\n",
    "In this script I just create a training dataset for graphs creation!\n"
   ],
   "cell_type": "markdown",
   "metadata": {}
  },
  {
   "cell_type": "code",
   "execution_count": 176,
   "metadata": {},
   "outputs": [],
   "source": [
    "# Libraries import\n",
    "import os\n",
    "import re\n",
    "import requests\n",
    "import json \n",
    "# Initialisation path\n",
    "dirPath = re.sub('testScripts','testData',os.getcwd())\n"
   ]
  },
  {
   "source": [
    "## Document structure prototype"
   ],
   "cell_type": "markdown",
   "metadata": {}
  },
  {
   "source": [
    "# First attempt data structure\n",
    "base = {'structure':\n",
    "    {\"variable\":[], # Position serves as id to fin dataset\n",
    "     \"location\":[], # Position serves as id to find dataset -> level 1 national, level 2 intranational \n",
    "     \"date\":[]}, # Position serves as id to find value in dataset\n",
    "'dataSet':{}, # dictionnary with search query as id -> ex '1:1:1' ->  variable : country : scale\n",
    "'metadata':{ # Metadata serves for the user interface\n",
    "    'relation':{\n",
    "        'category':{}, #{'category A':{'0','3','78'}} # Ids of variables\n",
    "        'geoHierarchy':[] #{'0': {'national': '0','regional':{'1':{'2','3'},'4':{'5','6'}}}}\n",
    "    },\n",
    "    'description':{} # dictionnary with search query as id -> ex '1:1:1'\n",
    "}\n",
    "}\n"
   ],
   "cell_type": "code",
   "metadata": {},
   "execution_count": 185,
   "outputs": []
  },
  {
   "source": [
    "## Data retrieval on the OECD API"
   ],
   "cell_type": "markdown",
   "metadata": {}
  },
  {
   "cell_type": "code",
   "execution_count": 76,
   "metadata": {},
   "outputs": [],
   "source": [
    "response = requests.get(\"https://stats.oecd.org/SDMX-JSON/data/EP_IND\")\n",
    "data = response.json()"
   ]
  },
  {
   "source": [
    "Copying data to our database"
   ],
   "cell_type": "markdown",
   "metadata": {}
  },
  {
   "cell_type": "code",
   "execution_count": 187,
   "metadata": {},
   "outputs": [],
   "source": [
    "base[\"structure\"][\"variable\"].append({'id': 'CO2_GDP', 'name': 'CO2 emissions per unit of GDP, tonnes/1 000 USD 2010 PPP', 'source':'OECD', 'date':'05-2021'})\n",
    "base[\"structure\"][\"location\"].append([{'id': 'ARG', 'name': 'Argentina'}])\n",
    "base['dataSet']['1:1:1'] = data['dataSets'][0]['series']['50:5'][\"observations\"]\n",
    "base[\"structure\"][\"date\"]=data['structure']['dimensions']['observation'][0]['values']"
   ]
  },
  {
   "source": [
    "## Testing corner"
   ],
   "cell_type": "markdown",
   "metadata": {}
  },
  {
   "cell_type": "code",
   "execution_count": 160,
   "metadata": {},
   "outputs": [
    {
     "output_type": "stream",
     "name": "stdout",
     "text": [
      "{'id': 'ARG', 'name': 'Argentina'} {'id': 'CO2_GDP', 'name': 'CO2 emissions per unit of GDP, tonnes/1 000 USD 2010 PPP'}\n"
     ]
    }
   ],
   "source": [
    "print(data['structure']['dimensions'][\"series\"][0]['values'][50], data['structure']['dimensions'][\"series\"][1]['values'][5]))"
   ]
  },
  {
   "cell_type": "code",
   "execution_count": 188,
   "metadata": {},
   "outputs": [
    {
     "output_type": "execute_result",
     "data": {
      "text/plain": [
       "{'structure': {'variable': [{'id': 'CO2_GDP',\n",
       "    'name': 'CO2 emissions per unit of GDP, tonnes/1 000 USD 2010 PPP',\n",
       "    'source': 'OECD',\n",
       "    'date': '05-2021'}],\n",
       "  'location': [[{'id': 'ARG', 'name': 'Argentina'}]],\n",
       "  'date': [{'id': '1990', 'name': '1990'},\n",
       "   {'id': '1991', 'name': '1991'},\n",
       "   {'id': '1992', 'name': '1992'},\n",
       "   {'id': '1993', 'name': '1993'},\n",
       "   {'id': '1994', 'name': '1994'},\n",
       "   {'id': '1995', 'name': '1995'},\n",
       "   {'id': '1996', 'name': '1996'},\n",
       "   {'id': '1997', 'name': '1997'},\n",
       "   {'id': '1998', 'name': '1998'},\n",
       "   {'id': '1999', 'name': '1999'},\n",
       "   {'id': '2000', 'name': '2000'},\n",
       "   {'id': '2001', 'name': '2001'},\n",
       "   {'id': '2002', 'name': '2002'},\n",
       "   {'id': '2003', 'name': '2003'},\n",
       "   {'id': '2004', 'name': '2004'},\n",
       "   {'id': '2005', 'name': '2005'},\n",
       "   {'id': '2006', 'name': '2006'},\n",
       "   {'id': '2007', 'name': '2007'},\n",
       "   {'id': '2008', 'name': '2008'},\n",
       "   {'id': '2009', 'name': '2009'},\n",
       "   {'id': '2010', 'name': '2010'},\n",
       "   {'id': '2011', 'name': '2011'},\n",
       "   {'id': '2012', 'name': '2012'},\n",
       "   {'id': '2013', 'name': '2013'},\n",
       "   {'id': '2014', 'name': '2014'},\n",
       "   {'id': '2015', 'name': '2015'},\n",
       "   {'id': '2016', 'name': '2016'},\n",
       "   {'id': '2017', 'name': '2017'},\n",
       "   {'id': '2018', 'name': '2018'},\n",
       "   {'id': '2019', 'name': '2019'},\n",
       "   {'id': '1980', 'name': '1980'},\n",
       "   {'id': '1981', 'name': '1981'},\n",
       "   {'id': '1982', 'name': '1982'},\n",
       "   {'id': '1983', 'name': '1983'},\n",
       "   {'id': '1984', 'name': '1984'},\n",
       "   {'id': '1985', 'name': '1985'},\n",
       "   {'id': '1986', 'name': '1986'},\n",
       "   {'id': '1987', 'name': '1987'},\n",
       "   {'id': '1988', 'name': '1988'},\n",
       "   {'id': '1989', 'name': '1989'}]},\n",
       " 'dataSet': {'1:1:1': {'30': [None, 0],\n",
       "   '31': [None, 0],\n",
       "   '32': [None, 0],\n",
       "   '33': [None, 0],\n",
       "   '34': [None, 0],\n",
       "   '35': [None, 0],\n",
       "   '36': [None, 0],\n",
       "   '37': [None, 0],\n",
       "   '38': [None, 0],\n",
       "   '39': [None, 0],\n",
       "   '0': [0.238, 0],\n",
       "   '1': [0.257, 0],\n",
       "   '2': [0.241, 0],\n",
       "   '3': [0.225, 0],\n",
       "   '4': [0.223, 0],\n",
       "   '5': [0.216, 0],\n",
       "   '6': [0.237, 0],\n",
       "   '7': [0.235, 0],\n",
       "   '8': [0.226, 0],\n",
       "   '9': [0.224, 0],\n",
       "   '10': [0.232, 0],\n",
       "   '11': [0.216, 0],\n",
       "   '12': [0.214, 0],\n",
       "   '13': [0.26, 0],\n",
       "   '14': [0.268, None],\n",
       "   '15': [0.251, None],\n",
       "   '16': [0.247, None],\n",
       "   '17': [0.236, None],\n",
       "   '18': [0.242, None],\n",
       "   '19': [0.246, None],\n",
       "   '20': [0.23, None],\n",
       "   '21': [0.226, None],\n",
       "   '22': [0.234, None],\n",
       "   '23': [0.223, None],\n",
       "   '24': [0.233, None],\n",
       "   '25': [0.234, None],\n",
       "   '26': [0.239, None],\n",
       "   '27': [0.223, None],\n",
       "   '28': [None, 0]}},\n",
       " 'metadata': {'relation': {'category': {}, 'geoHierarchy': []},\n",
       "  'description': {}}}"
      ]
     },
     "metadata": {},
     "execution_count": 188
    }
   ],
   "source": [
    "base"
   ]
  },
  {
   "source": [
    "## Exporting data"
   ],
   "cell_type": "markdown",
   "metadata": {}
  },
  {
   "cell_type": "code",
   "execution_count": 192,
   "metadata": {},
   "outputs": [],
   "source": [
    "with open(os.path.join(dirPath,\"database.json\"),'w') as out:\n",
    "    json.dump(base, out)"
   ]
  }
 ]
}