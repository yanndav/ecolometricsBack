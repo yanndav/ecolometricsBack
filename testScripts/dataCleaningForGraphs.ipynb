{
 "metadata": {
  "language_info": {
   "codemirror_mode": {
    "name": "ipython",
    "version": 3
   },
   "file_extension": ".py",
   "mimetype": "text/x-python",
   "name": "python",
   "nbconvert_exporter": "python",
   "pygments_lexer": "ipython3",
   "version": "3.8.5"
  },
  "orig_nbformat": 2,
  "kernelspec": {
   "name": "memoire2",
   "display_name": "memoire2",
   "language": "python"
  }
 },
 "nbformat": 4,
 "nbformat_minor": 2,
 "cells": [
  {
   "source": [
    "# Hey mate!\n",
    "In this script I just create a training dataset for graphs creation!"
   ],
   "cell_type": "markdown",
   "metadata": {}
  },
  {
   "cell_type": "code",
   "execution_count": 10,
   "metadata": {},
   "outputs": [],
   "source": [
    "# Librarie import\n",
    "import os\n",
    "import re\n",
    "import pandas as pd"
   ]
  },
  {
   "source": [
    "path = re.sub('/testScripts','',os.getcwd())\n",
    "\n",
    "with open(path+\"/testData/env_bio2.tsv\",'r') as data:\n",
    "    birds = pd.read_csv(data,delimiter='\\t')\n",
    "\n",
    "with open(path+\"/testData/env_bio1.tsv\",'r') as data:\n",
    "    nature = pd.read_csv(data,delimiter='\\t')"
   ],
   "cell_type": "code",
   "metadata": {},
   "execution_count": 14,
   "outputs": []
  },
  {
   "cell_type": "code",
   "execution_count": 13,
   "metadata": {},
   "outputs": [
    {
     "output_type": "execute_result",
     "data": {
      "text/plain": [
       "      indic_env,hazard,unit,geo\\time  2019   2018   2017   2016   2015   \\\n",
       "0           CONS,ENV,MIO_T,EU27_2020   79.3   75.7   74.3   75.1   77.7   \n",
       "1       CONS,ENV_CHR,MIO_T,EU27_2020    0.0    0.0    0.0    0.0    0.0   \n",
       "2    CONS,ENV_MODCHR,MIO_T,EU27_2020   26.2   26.2   28.3   24.6   24.6   \n",
       "3    CONS,ENV_SEVCHR,MIO_T,EU27_2020   19.2   17.8   14.1   19.3   24.1   \n",
       "4    CONS,ENV_SGNACU,MIO_T,EU27_2020   11.4    8.4    7.5    7.2    6.0   \n",
       "5    CONS,ENV_SGNCHR,MIO_T,EU27_2020   22.5   23.3   24.4   24.1   23.0   \n",
       "6           CONS,HAZ,MIO_T,EU27_2020  219.0  218.1  217.5  212.7  216.2   \n",
       "7      CONS,HAZ_NHAZ,MIO_T,EU27_2020  298.0  299.3  297.5  290.8  292.5   \n",
       "8          CONS,HLTH,MIO_T,EU27_2020  218.5  217.6  216.8  212.1  215.9   \n",
       "9   CONS,HLTH_CHRTOX,MIO_T,EU27_2020   22.3   21.0   19.0   17.3   20.8   \n",
       "10     CONS,HLTH_CMR,MIO_T,EU27_2020   30.4   29.5   30.0   34.5   35.7   \n",
       "11     CONS,HLTH_HRM,MIO_T,EU27_2020   59.1   61.1   60.7   60.2   60.9   \n",
       "12     CONS,HLTH_TOX,MIO_T,EU27_2020   43.8   44.3   45.6   43.0   42.3   \n",
       "13    CONS,HLTH_VTOX,MIO_T,EU27_2020   63.0   61.7   61.5   57.0   56.2   \n",
       "14           PRD,ENV,MIO_T,EU27_2020   82.7   81.8   84.6   77.7   75.6   \n",
       "15       PRD,ENV_CHR,MIO_T,EU27_2020    0.0    0.0    0.0    0.0    0.0   \n",
       "16    PRD,ENV_MODCHR,MIO_T,EU27_2020   24.9   25.3   27.7   23.9   23.9   \n",
       "17    PRD,ENV_SEVCHR,MIO_T,EU27_2020   24.4   25.4   25.4   22.7   22.8   \n",
       "18    PRD,ENV_SGNACU,MIO_T,EU27_2020   11.3    8.3    7.4    7.1    5.9   \n",
       "19    PRD,ENV_SGNCHR,MIO_T,EU27_2020   22.2   22.9   24.2   24.0   22.9   \n",
       "20      PRD,HAZ_NHAZ,MIO_T,EU27_2020  281.1  288.1  291.0  278.0  272.2   \n",
       "21          PRD,HLTH,MIO_T,EU27_2020  211.0  213.2  218.6  207.2  204.5   \n",
       "22   PRD,HLTH_CHRTOX,MIO_T,EU27_2020   21.3   21.9   23.0   21.8   21.7   \n",
       "23      PRD,HLTH_CMR,MIO_T,EU27_2020   35.5   35.7   37.1   33.3   33.0   \n",
       "24      PRD,HLTH_HRM,MIO_T,EU27_2020   57.1   59.8   60.0   59.8   59.8   \n",
       "25      PRD,HLTH_TOX,MIO_T,EU27_2020   35.8   36.2   38.5   36.5   35.1   \n",
       "26     PRD,HLTH_VTOX,MIO_T,EU27_2020   61.2   59.5   59.9   55.7   55.0   \n",
       "\n",
       "    2014   2013   2012   2011   2010   2009   2008   2007   2006   2005   \\\n",
       "0    80.4   80.0   79.9   84.6   86.4   76.1   92.4   91.0   87.0   88.9   \n",
       "1     0.0    0.0    0.0    0.0    0.0    0.0    0.0    0.0    0.0    0.0   \n",
       "2    25.6   27.6   26.6   27.6   27.0   24.9   27.3   30.6   29.0   29.0   \n",
       "3    25.7   25.4   24.9   26.9   26.1   23.4   24.4   26.8   25.8   26.1   \n",
       "4     5.7    5.5    5.3    6.9    8.8    6.1   13.5    8.3    7.3    7.3   \n",
       "5    23.5   21.5   23.1   23.2   24.4   21.7   27.1   25.3   24.9   26.5   \n",
       "6   220.3  216.2  217.3  223.0  233.0  204.0  239.0  251.3  243.7  249.1   \n",
       "7   294.9  289.9  292.6  295.5  306.2  268.0  310.2  334.0  323.0  327.2   \n",
       "8   220.0  215.9  216.8  222.4  232.4  203.5  238.6  251.0  243.5  248.9   \n",
       "9    23.3   22.4   22.1   21.2   22.5   21.0   26.4   24.5   23.7   23.0   \n",
       "10   36.2   37.2   36.8   41.7   41.1   36.3   37.2   43.4   41.3   42.9   \n",
       "11   61.9   60.0   62.1   62.5   64.2   55.0   62.7   68.5   66.9   68.1   \n",
       "12   42.1   42.1   42.9   42.9   43.3   38.5   44.2   47.4   47.8   48.9   \n",
       "13   56.5   54.3   53.0   54.2   61.2   52.7   68.0   67.2   63.8   66.0   \n",
       "14   77.7   79.2   79.3   83.0   85.3   76.0   91.1   88.9   86.1   88.0   \n",
       "15    0.0    0.0    0.0    0.0    0.0    0.0    0.0    0.0    0.0    0.0   \n",
       "16   24.6   26.7   25.8   26.5   26.3   24.5   26.1   29.1   28.3   28.2   \n",
       "17   24.0   25.5   25.3   26.7   25.8   23.4   24.2   26.6   25.8   26.0   \n",
       "18    5.6    5.5    5.2    6.8    8.8    6.1   13.5    8.2    7.2    7.2   \n",
       "19   23.6   21.5   23.0   23.0   24.4   22.0   27.3   25.0   24.7   26.5   \n",
       "20  275.2  273.8  279.5  280.5  291.8  257.2  293.3  313.8  304.5  310.3   \n",
       "21  208.6  207.2  209.8  213.1  224.2  196.9  228.4  238.8  232.5  240.0   \n",
       "22   22.5   23.2   23.2   22.1   23.4   21.7   27.0   25.1   24.7   24.0   \n",
       "23   33.6   36.1   36.1   40.0   40.1   35.9   35.9   41.3   39.8   41.7   \n",
       "24   61.9   59.7   62.1   61.7   63.2   54.2   60.5   65.6   63.8   65.6   \n",
       "25   35.3   35.3   36.5   36.0   37.5   33.0   37.3   40.1   41.1   43.3   \n",
       "26   55.5   53.0   51.9   53.2   60.1   52.1   67.6   66.6   63.1   65.3   \n",
       "\n",
       "    2004   \n",
       "0    83.9  \n",
       "1     0.0  \n",
       "2    30.7  \n",
       "3    24.7  \n",
       "4     2.1  \n",
       "5    26.4  \n",
       "6   241.6  \n",
       "7   317.0  \n",
       "8   241.4  \n",
       "9    23.6  \n",
       "10   42.6  \n",
       "11   69.0  \n",
       "12   47.5  \n",
       "13   58.7  \n",
       "14   82.9  \n",
       "15    0.0  \n",
       "16   29.8  \n",
       "17   24.5  \n",
       "18    2.0  \n",
       "19   26.5  \n",
       "20  301.8  \n",
       "21  234.7  \n",
       "22   24.7  \n",
       "23   41.8  \n",
       "24   67.2  \n",
       "25   42.9  \n",
       "26   58.1  "
      ],
      "text/html": "<div>\n<style scoped>\n    .dataframe tbody tr th:only-of-type {\n        vertical-align: middle;\n    }\n\n    .dataframe tbody tr th {\n        vertical-align: top;\n    }\n\n    .dataframe thead th {\n        text-align: right;\n    }\n</style>\n<table border=\"1\" class=\"dataframe\">\n  <thead>\n    <tr style=\"text-align: right;\">\n      <th></th>\n      <th>indic_env,hazard,unit,geo\\time</th>\n      <th>2019</th>\n      <th>2018</th>\n      <th>2017</th>\n      <th>2016</th>\n      <th>2015</th>\n      <th>2014</th>\n      <th>2013</th>\n      <th>2012</th>\n      <th>2011</th>\n      <th>2010</th>\n      <th>2009</th>\n      <th>2008</th>\n      <th>2007</th>\n      <th>2006</th>\n      <th>2005</th>\n      <th>2004</th>\n    </tr>\n  </thead>\n  <tbody>\n    <tr>\n      <th>0</th>\n      <td>CONS,ENV,MIO_T,EU27_2020</td>\n      <td>79.3</td>\n      <td>75.7</td>\n      <td>74.3</td>\n      <td>75.1</td>\n      <td>77.7</td>\n      <td>80.4</td>\n      <td>80.0</td>\n      <td>79.9</td>\n      <td>84.6</td>\n      <td>86.4</td>\n      <td>76.1</td>\n      <td>92.4</td>\n      <td>91.0</td>\n      <td>87.0</td>\n      <td>88.9</td>\n      <td>83.9</td>\n    </tr>\n    <tr>\n      <th>1</th>\n      <td>CONS,ENV_CHR,MIO_T,EU27_2020</td>\n      <td>0.0</td>\n      <td>0.0</td>\n      <td>0.0</td>\n      <td>0.0</td>\n      <td>0.0</td>\n      <td>0.0</td>\n      <td>0.0</td>\n      <td>0.0</td>\n      <td>0.0</td>\n      <td>0.0</td>\n      <td>0.0</td>\n      <td>0.0</td>\n      <td>0.0</td>\n      <td>0.0</td>\n      <td>0.0</td>\n      <td>0.0</td>\n    </tr>\n    <tr>\n      <th>2</th>\n      <td>CONS,ENV_MODCHR,MIO_T,EU27_2020</td>\n      <td>26.2</td>\n      <td>26.2</td>\n      <td>28.3</td>\n      <td>24.6</td>\n      <td>24.6</td>\n      <td>25.6</td>\n      <td>27.6</td>\n      <td>26.6</td>\n      <td>27.6</td>\n      <td>27.0</td>\n      <td>24.9</td>\n      <td>27.3</td>\n      <td>30.6</td>\n      <td>29.0</td>\n      <td>29.0</td>\n      <td>30.7</td>\n    </tr>\n    <tr>\n      <th>3</th>\n      <td>CONS,ENV_SEVCHR,MIO_T,EU27_2020</td>\n      <td>19.2</td>\n      <td>17.8</td>\n      <td>14.1</td>\n      <td>19.3</td>\n      <td>24.1</td>\n      <td>25.7</td>\n      <td>25.4</td>\n      <td>24.9</td>\n      <td>26.9</td>\n      <td>26.1</td>\n      <td>23.4</td>\n      <td>24.4</td>\n      <td>26.8</td>\n      <td>25.8</td>\n      <td>26.1</td>\n      <td>24.7</td>\n    </tr>\n    <tr>\n      <th>4</th>\n      <td>CONS,ENV_SGNACU,MIO_T,EU27_2020</td>\n      <td>11.4</td>\n      <td>8.4</td>\n      <td>7.5</td>\n      <td>7.2</td>\n      <td>6.0</td>\n      <td>5.7</td>\n      <td>5.5</td>\n      <td>5.3</td>\n      <td>6.9</td>\n      <td>8.8</td>\n      <td>6.1</td>\n      <td>13.5</td>\n      <td>8.3</td>\n      <td>7.3</td>\n      <td>7.3</td>\n      <td>2.1</td>\n    </tr>\n    <tr>\n      <th>5</th>\n      <td>CONS,ENV_SGNCHR,MIO_T,EU27_2020</td>\n      <td>22.5</td>\n      <td>23.3</td>\n      <td>24.4</td>\n      <td>24.1</td>\n      <td>23.0</td>\n      <td>23.5</td>\n      <td>21.5</td>\n      <td>23.1</td>\n      <td>23.2</td>\n      <td>24.4</td>\n      <td>21.7</td>\n      <td>27.1</td>\n      <td>25.3</td>\n      <td>24.9</td>\n      <td>26.5</td>\n      <td>26.4</td>\n    </tr>\n    <tr>\n      <th>6</th>\n      <td>CONS,HAZ,MIO_T,EU27_2020</td>\n      <td>219.0</td>\n      <td>218.1</td>\n      <td>217.5</td>\n      <td>212.7</td>\n      <td>216.2</td>\n      <td>220.3</td>\n      <td>216.2</td>\n      <td>217.3</td>\n      <td>223.0</td>\n      <td>233.0</td>\n      <td>204.0</td>\n      <td>239.0</td>\n      <td>251.3</td>\n      <td>243.7</td>\n      <td>249.1</td>\n      <td>241.6</td>\n    </tr>\n    <tr>\n      <th>7</th>\n      <td>CONS,HAZ_NHAZ,MIO_T,EU27_2020</td>\n      <td>298.0</td>\n      <td>299.3</td>\n      <td>297.5</td>\n      <td>290.8</td>\n      <td>292.5</td>\n      <td>294.9</td>\n      <td>289.9</td>\n      <td>292.6</td>\n      <td>295.5</td>\n      <td>306.2</td>\n      <td>268.0</td>\n      <td>310.2</td>\n      <td>334.0</td>\n      <td>323.0</td>\n      <td>327.2</td>\n      <td>317.0</td>\n    </tr>\n    <tr>\n      <th>8</th>\n      <td>CONS,HLTH,MIO_T,EU27_2020</td>\n      <td>218.5</td>\n      <td>217.6</td>\n      <td>216.8</td>\n      <td>212.1</td>\n      <td>215.9</td>\n      <td>220.0</td>\n      <td>215.9</td>\n      <td>216.8</td>\n      <td>222.4</td>\n      <td>232.4</td>\n      <td>203.5</td>\n      <td>238.6</td>\n      <td>251.0</td>\n      <td>243.5</td>\n      <td>248.9</td>\n      <td>241.4</td>\n    </tr>\n    <tr>\n      <th>9</th>\n      <td>CONS,HLTH_CHRTOX,MIO_T,EU27_2020</td>\n      <td>22.3</td>\n      <td>21.0</td>\n      <td>19.0</td>\n      <td>17.3</td>\n      <td>20.8</td>\n      <td>23.3</td>\n      <td>22.4</td>\n      <td>22.1</td>\n      <td>21.2</td>\n      <td>22.5</td>\n      <td>21.0</td>\n      <td>26.4</td>\n      <td>24.5</td>\n      <td>23.7</td>\n      <td>23.0</td>\n      <td>23.6</td>\n    </tr>\n    <tr>\n      <th>10</th>\n      <td>CONS,HLTH_CMR,MIO_T,EU27_2020</td>\n      <td>30.4</td>\n      <td>29.5</td>\n      <td>30.0</td>\n      <td>34.5</td>\n      <td>35.7</td>\n      <td>36.2</td>\n      <td>37.2</td>\n      <td>36.8</td>\n      <td>41.7</td>\n      <td>41.1</td>\n      <td>36.3</td>\n      <td>37.2</td>\n      <td>43.4</td>\n      <td>41.3</td>\n      <td>42.9</td>\n      <td>42.6</td>\n    </tr>\n    <tr>\n      <th>11</th>\n      <td>CONS,HLTH_HRM,MIO_T,EU27_2020</td>\n      <td>59.1</td>\n      <td>61.1</td>\n      <td>60.7</td>\n      <td>60.2</td>\n      <td>60.9</td>\n      <td>61.9</td>\n      <td>60.0</td>\n      <td>62.1</td>\n      <td>62.5</td>\n      <td>64.2</td>\n      <td>55.0</td>\n      <td>62.7</td>\n      <td>68.5</td>\n      <td>66.9</td>\n      <td>68.1</td>\n      <td>69.0</td>\n    </tr>\n    <tr>\n      <th>12</th>\n      <td>CONS,HLTH_TOX,MIO_T,EU27_2020</td>\n      <td>43.8</td>\n      <td>44.3</td>\n      <td>45.6</td>\n      <td>43.0</td>\n      <td>42.3</td>\n      <td>42.1</td>\n      <td>42.1</td>\n      <td>42.9</td>\n      <td>42.9</td>\n      <td>43.3</td>\n      <td>38.5</td>\n      <td>44.2</td>\n      <td>47.4</td>\n      <td>47.8</td>\n      <td>48.9</td>\n      <td>47.5</td>\n    </tr>\n    <tr>\n      <th>13</th>\n      <td>CONS,HLTH_VTOX,MIO_T,EU27_2020</td>\n      <td>63.0</td>\n      <td>61.7</td>\n      <td>61.5</td>\n      <td>57.0</td>\n      <td>56.2</td>\n      <td>56.5</td>\n      <td>54.3</td>\n      <td>53.0</td>\n      <td>54.2</td>\n      <td>61.2</td>\n      <td>52.7</td>\n      <td>68.0</td>\n      <td>67.2</td>\n      <td>63.8</td>\n      <td>66.0</td>\n      <td>58.7</td>\n    </tr>\n    <tr>\n      <th>14</th>\n      <td>PRD,ENV,MIO_T,EU27_2020</td>\n      <td>82.7</td>\n      <td>81.8</td>\n      <td>84.6</td>\n      <td>77.7</td>\n      <td>75.6</td>\n      <td>77.7</td>\n      <td>79.2</td>\n      <td>79.3</td>\n      <td>83.0</td>\n      <td>85.3</td>\n      <td>76.0</td>\n      <td>91.1</td>\n      <td>88.9</td>\n      <td>86.1</td>\n      <td>88.0</td>\n      <td>82.9</td>\n    </tr>\n    <tr>\n      <th>15</th>\n      <td>PRD,ENV_CHR,MIO_T,EU27_2020</td>\n      <td>0.0</td>\n      <td>0.0</td>\n      <td>0.0</td>\n      <td>0.0</td>\n      <td>0.0</td>\n      <td>0.0</td>\n      <td>0.0</td>\n      <td>0.0</td>\n      <td>0.0</td>\n      <td>0.0</td>\n      <td>0.0</td>\n      <td>0.0</td>\n      <td>0.0</td>\n      <td>0.0</td>\n      <td>0.0</td>\n      <td>0.0</td>\n    </tr>\n    <tr>\n      <th>16</th>\n      <td>PRD,ENV_MODCHR,MIO_T,EU27_2020</td>\n      <td>24.9</td>\n      <td>25.3</td>\n      <td>27.7</td>\n      <td>23.9</td>\n      <td>23.9</td>\n      <td>24.6</td>\n      <td>26.7</td>\n      <td>25.8</td>\n      <td>26.5</td>\n      <td>26.3</td>\n      <td>24.5</td>\n      <td>26.1</td>\n      <td>29.1</td>\n      <td>28.3</td>\n      <td>28.2</td>\n      <td>29.8</td>\n    </tr>\n    <tr>\n      <th>17</th>\n      <td>PRD,ENV_SEVCHR,MIO_T,EU27_2020</td>\n      <td>24.4</td>\n      <td>25.4</td>\n      <td>25.4</td>\n      <td>22.7</td>\n      <td>22.8</td>\n      <td>24.0</td>\n      <td>25.5</td>\n      <td>25.3</td>\n      <td>26.7</td>\n      <td>25.8</td>\n      <td>23.4</td>\n      <td>24.2</td>\n      <td>26.6</td>\n      <td>25.8</td>\n      <td>26.0</td>\n      <td>24.5</td>\n    </tr>\n    <tr>\n      <th>18</th>\n      <td>PRD,ENV_SGNACU,MIO_T,EU27_2020</td>\n      <td>11.3</td>\n      <td>8.3</td>\n      <td>7.4</td>\n      <td>7.1</td>\n      <td>5.9</td>\n      <td>5.6</td>\n      <td>5.5</td>\n      <td>5.2</td>\n      <td>6.8</td>\n      <td>8.8</td>\n      <td>6.1</td>\n      <td>13.5</td>\n      <td>8.2</td>\n      <td>7.2</td>\n      <td>7.2</td>\n      <td>2.0</td>\n    </tr>\n    <tr>\n      <th>19</th>\n      <td>PRD,ENV_SGNCHR,MIO_T,EU27_2020</td>\n      <td>22.2</td>\n      <td>22.9</td>\n      <td>24.2</td>\n      <td>24.0</td>\n      <td>22.9</td>\n      <td>23.6</td>\n      <td>21.5</td>\n      <td>23.0</td>\n      <td>23.0</td>\n      <td>24.4</td>\n      <td>22.0</td>\n      <td>27.3</td>\n      <td>25.0</td>\n      <td>24.7</td>\n      <td>26.5</td>\n      <td>26.5</td>\n    </tr>\n    <tr>\n      <th>20</th>\n      <td>PRD,HAZ_NHAZ,MIO_T,EU27_2020</td>\n      <td>281.1</td>\n      <td>288.1</td>\n      <td>291.0</td>\n      <td>278.0</td>\n      <td>272.2</td>\n      <td>275.2</td>\n      <td>273.8</td>\n      <td>279.5</td>\n      <td>280.5</td>\n      <td>291.8</td>\n      <td>257.2</td>\n      <td>293.3</td>\n      <td>313.8</td>\n      <td>304.5</td>\n      <td>310.3</td>\n      <td>301.8</td>\n    </tr>\n    <tr>\n      <th>21</th>\n      <td>PRD,HLTH,MIO_T,EU27_2020</td>\n      <td>211.0</td>\n      <td>213.2</td>\n      <td>218.6</td>\n      <td>207.2</td>\n      <td>204.5</td>\n      <td>208.6</td>\n      <td>207.2</td>\n      <td>209.8</td>\n      <td>213.1</td>\n      <td>224.2</td>\n      <td>196.9</td>\n      <td>228.4</td>\n      <td>238.8</td>\n      <td>232.5</td>\n      <td>240.0</td>\n      <td>234.7</td>\n    </tr>\n    <tr>\n      <th>22</th>\n      <td>PRD,HLTH_CHRTOX,MIO_T,EU27_2020</td>\n      <td>21.3</td>\n      <td>21.9</td>\n      <td>23.0</td>\n      <td>21.8</td>\n      <td>21.7</td>\n      <td>22.5</td>\n      <td>23.2</td>\n      <td>23.2</td>\n      <td>22.1</td>\n      <td>23.4</td>\n      <td>21.7</td>\n      <td>27.0</td>\n      <td>25.1</td>\n      <td>24.7</td>\n      <td>24.0</td>\n      <td>24.7</td>\n    </tr>\n    <tr>\n      <th>23</th>\n      <td>PRD,HLTH_CMR,MIO_T,EU27_2020</td>\n      <td>35.5</td>\n      <td>35.7</td>\n      <td>37.1</td>\n      <td>33.3</td>\n      <td>33.0</td>\n      <td>33.6</td>\n      <td>36.1</td>\n      <td>36.1</td>\n      <td>40.0</td>\n      <td>40.1</td>\n      <td>35.9</td>\n      <td>35.9</td>\n      <td>41.3</td>\n      <td>39.8</td>\n      <td>41.7</td>\n      <td>41.8</td>\n    </tr>\n    <tr>\n      <th>24</th>\n      <td>PRD,HLTH_HRM,MIO_T,EU27_2020</td>\n      <td>57.1</td>\n      <td>59.8</td>\n      <td>60.0</td>\n      <td>59.8</td>\n      <td>59.8</td>\n      <td>61.9</td>\n      <td>59.7</td>\n      <td>62.1</td>\n      <td>61.7</td>\n      <td>63.2</td>\n      <td>54.2</td>\n      <td>60.5</td>\n      <td>65.6</td>\n      <td>63.8</td>\n      <td>65.6</td>\n      <td>67.2</td>\n    </tr>\n    <tr>\n      <th>25</th>\n      <td>PRD,HLTH_TOX,MIO_T,EU27_2020</td>\n      <td>35.8</td>\n      <td>36.2</td>\n      <td>38.5</td>\n      <td>36.5</td>\n      <td>35.1</td>\n      <td>35.3</td>\n      <td>35.3</td>\n      <td>36.5</td>\n      <td>36.0</td>\n      <td>37.5</td>\n      <td>33.0</td>\n      <td>37.3</td>\n      <td>40.1</td>\n      <td>41.1</td>\n      <td>43.3</td>\n      <td>42.9</td>\n    </tr>\n    <tr>\n      <th>26</th>\n      <td>PRD,HLTH_VTOX,MIO_T,EU27_2020</td>\n      <td>61.2</td>\n      <td>59.5</td>\n      <td>59.9</td>\n      <td>55.7</td>\n      <td>55.0</td>\n      <td>55.5</td>\n      <td>53.0</td>\n      <td>51.9</td>\n      <td>53.2</td>\n      <td>60.1</td>\n      <td>52.1</td>\n      <td>67.6</td>\n      <td>66.6</td>\n      <td>63.1</td>\n      <td>65.3</td>\n      <td>58.1</td>\n    </tr>\n  </tbody>\n</table>\n</div>"
     },
     "metadata": {},
     "execution_count": 13
    }
   ],
   "source": [
    "chemicals"
   ]
  }
 ]
}